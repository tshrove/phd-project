{
  "nbformat": 4,
  "nbformat_minor": 0,
  "metadata": {
    "kernelspec": {
      "display_name": "Python 3",
      "language": "python",
      "name": "python3"
    },
    "language_info": {
      "codemirror_mode": {
        "name": "ipython",
        "version": 3
      },
      "file_extension": ".py",
      "mimetype": "text/x-python",
      "name": "python",
      "nbconvert_exporter": "python",
      "pygments_lexer": "ipython3",
      "version": "3.7.3"
    },
    "widgets": {
      "application/vnd.jupyter.widget-state+json": {
        "state": {},
        "version_major": 2,
        "version_minor": 0
      }
    },
    "colab": {
      "name": "JIRA_Github_Regression.ipynb",
      "version": "0.3.2",
      "provenance": [],
      "collapsed_sections": [],
      "include_colab_link": true
    }
  },
  "cells": [
    {
      "cell_type": "markdown",
      "metadata": {
        "id": "view-in-github",
        "colab_type": "text"
      },
      "source": [
        "<a href=\"https://colab.research.google.com/github/tshrove/phd-project/blob/master/JIRA_Github_Regression.ipynb\" target=\"_parent\"><img src=\"https://colab.research.google.com/assets/colab-badge.svg\" alt=\"Open In Colab\"/></a>"
      ]
    },
    {
      "cell_type": "code",
      "metadata": {
        "id": "lwcf4zOQ8Zfl",
        "colab_type": "code",
        "colab": {}
      },
      "source": [
        "import pandas as pd\n",
        "import matplotlib.pyplot as plt\n",
        "from sklearn.preprocessing import MinMaxScaler\n",
        "from sklearn import preprocessing\n",
        "import numpy as np\n",
        "from IPython.display import display\n",
        "import warnings\n",
        "\n",
        "%matplotlib inline\n",
        "#plt.rcParams['figure.figsize'] = [10, 5]\n",
        "plt.rcParams['figure.dpi'] = 200\n",
        "\n",
        "jira_project_names = ['CDRIVER', 'CSHARP', 'JAVA', 'NODE', 'PERL', 'PYTHON', 'RUBY']\n",
        "github_project_names = ['mongodb/mongo-c-driver', 'mongodb/mongo-csharp-driver', 'mongodb/mongo-java-driver', \n",
        "                        'mongodb/node-mongodb-native', 'mongodb/mongo-perl-driver', 'mongodb/mongo-python-driver', 'mongodb/mongo-ruby-driver']\n",
        "\n",
        "sampling_freq = 'M'\n",
        "weeks_of_prediction = 4\n",
        "weeks_of_training = 10\n",
        "do_plot = False\n",
        "do_print = False\n",
        "\n",
        "warnings.filterwarnings('ignore')"
      ],
      "execution_count": 0,
      "outputs": []
    },
    {
      "cell_type": "markdown",
      "metadata": {
        "id": "f-Ox1D0F9Hby",
        "colab_type": "text"
      },
      "source": [
        "## Getting the Defect Data\n",
        "Need to get the defect data from excel spreadsheet."
      ]
    },
    {
      "cell_type": "code",
      "metadata": {
        "id": "fMZBUakG8eKs",
        "colab_type": "code",
        "outputId": "cc7fcb1e-6fd6-4545-a8d8-bad45489c66c",
        "colab": {
          "resources": {
            "http://localhost:8080/nbextensions/google.colab/files.js": {
              "data": "Ly8gQ29weXJpZ2h0IDIwMTcgR29vZ2xlIExMQwovLwovLyBMaWNlbnNlZCB1bmRlciB0aGUgQXBhY2hlIExpY2Vuc2UsIFZlcnNpb24gMi4wICh0aGUgIkxpY2Vuc2UiKTsKLy8geW91IG1heSBub3QgdXNlIHRoaXMgZmlsZSBleGNlcHQgaW4gY29tcGxpYW5jZSB3aXRoIHRoZSBMaWNlbnNlLgovLyBZb3UgbWF5IG9idGFpbiBhIGNvcHkgb2YgdGhlIExpY2Vuc2UgYXQKLy8KLy8gICAgICBodHRwOi8vd3d3LmFwYWNoZS5vcmcvbGljZW5zZXMvTElDRU5TRS0yLjAKLy8KLy8gVW5sZXNzIHJlcXVpcmVkIGJ5IGFwcGxpY2FibGUgbGF3IG9yIGFncmVlZCB0byBpbiB3cml0aW5nLCBzb2Z0d2FyZQovLyBkaXN0cmlidXRlZCB1bmRlciB0aGUgTGljZW5zZSBpcyBkaXN0cmlidXRlZCBvbiBhbiAiQVMgSVMiIEJBU0lTLAovLyBXSVRIT1VUIFdBUlJBTlRJRVMgT1IgQ09ORElUSU9OUyBPRiBBTlkgS0lORCwgZWl0aGVyIGV4cHJlc3Mgb3IgaW1wbGllZC4KLy8gU2VlIHRoZSBMaWNlbnNlIGZvciB0aGUgc3BlY2lmaWMgbGFuZ3VhZ2UgZ292ZXJuaW5nIHBlcm1pc3Npb25zIGFuZAovLyBsaW1pdGF0aW9ucyB1bmRlciB0aGUgTGljZW5zZS4KCi8qKgogKiBAZmlsZW92ZXJ2aWV3IEhlbHBlcnMgZm9yIGdvb2dsZS5jb2xhYiBQeXRob24gbW9kdWxlLgogKi8KKGZ1bmN0aW9uKHNjb3BlKSB7CmZ1bmN0aW9uIHNwYW4odGV4dCwgc3R5bGVBdHRyaWJ1dGVzID0ge30pIHsKICBjb25zdCBlbGVtZW50ID0gZG9jdW1lbnQuY3JlYXRlRWxlbWVudCgnc3BhbicpOwogIGVsZW1lbnQudGV4dENvbnRlbnQgPSB0ZXh0OwogIGZvciAoY29uc3Qga2V5IG9mIE9iamVjdC5rZXlzKHN0eWxlQXR0cmlidXRlcykpIHsKICAgIGVsZW1lbnQuc3R5bGVba2V5XSA9IHN0eWxlQXR0cmlidXRlc1trZXldOwogIH0KICByZXR1cm4gZWxlbWVudDsKfQoKLy8gTWF4IG51bWJlciBvZiBieXRlcyB3aGljaCB3aWxsIGJlIHVwbG9hZGVkIGF0IGEgdGltZS4KY29uc3QgTUFYX1BBWUxPQURfU0laRSA9IDEwMCAqIDEwMjQ7Ci8vIE1heCBhbW91bnQgb2YgdGltZSB0byBibG9jayB3YWl0aW5nIGZvciB0aGUgdXNlci4KY29uc3QgRklMRV9DSEFOR0VfVElNRU9VVF9NUyA9IDMwICogMTAwMDsKCmZ1bmN0aW9uIF91cGxvYWRGaWxlcyhpbnB1dElkLCBvdXRwdXRJZCkgewogIGNvbnN0IHN0ZXBzID0gdXBsb2FkRmlsZXNTdGVwKGlucHV0SWQsIG91dHB1dElkKTsKICBjb25zdCBvdXRwdXRFbGVtZW50ID0gZG9jdW1lbnQuZ2V0RWxlbWVudEJ5SWQob3V0cHV0SWQpOwogIC8vIENhY2hlIHN0ZXBzIG9uIHRoZSBvdXRwdXRFbGVtZW50IHRvIG1ha2UgaXQgYXZhaWxhYmxlIGZvciB0aGUgbmV4dCBjYWxsCiAgLy8gdG8gdXBsb2FkRmlsZXNDb250aW51ZSBmcm9tIFB5dGhvbi4KICBvdXRwdXRFbGVtZW50LnN0ZXBzID0gc3RlcHM7CgogIHJldHVybiBfdXBsb2FkRmlsZXNDb250aW51ZShvdXRwdXRJZCk7Cn0KCi8vIFRoaXMgaXMgcm91Z2hseSBhbiBhc3luYyBnZW5lcmF0b3IgKG5vdCBzdXBwb3J0ZWQgaW4gdGhlIGJyb3dzZXIgeWV0KSwKLy8gd2hlcmUgdGhlcmUgYXJlIG11bHRpcGxlIGFzeW5jaHJvbm91cyBzdGVwcyBhbmQgdGhlIFB5dGhvbiBzaWRlIGlzIGdvaW5nCi8vIHRvIHBvbGwgZm9yIGNvbXBsZXRpb24gb2YgZWFjaCBzdGVwLgovLyBUaGlzIHVzZXMgYSBQcm9taXNlIHRvIGJsb2NrIHRoZSBweXRob24gc2lkZSBvbiBjb21wbGV0aW9uIG9mIGVhY2ggc3RlcCwKLy8gdGhlbiBwYXNzZXMgdGhlIHJlc3VsdCBvZiB0aGUgcHJldmlvdXMgc3RlcCBhcyB0aGUgaW5wdXQgdG8gdGhlIG5leHQgc3RlcC4KZnVuY3Rpb24gX3VwbG9hZEZpbGVzQ29udGludWUob3V0cHV0SWQpIHsKICBjb25zdCBvdXRwdXRFbGVtZW50ID0gZG9jdW1lbnQuZ2V0RWxlbWVudEJ5SWQob3V0cHV0SWQpOwogIGNvbnN0IHN0ZXBzID0gb3V0cHV0RWxlbWVudC5zdGVwczsKCiAgY29uc3QgbmV4dCA9IHN0ZXBzLm5leHQob3V0cHV0RWxlbWVudC5sYXN0UHJvbWlzZVZhbHVlKTsKICByZXR1cm4gUHJvbWlzZS5yZXNvbHZlKG5leHQudmFsdWUucHJvbWlzZSkudGhlbigodmFsdWUpID0+IHsKICAgIC8vIENhY2hlIHRoZSBsYXN0IHByb21pc2UgdmFsdWUgdG8gbWFrZSBpdCBhdmFpbGFibGUgdG8gdGhlIG5leHQKICAgIC8vIHN0ZXAgb2YgdGhlIGdlbmVyYXRvci4KICAgIG91dHB1dEVsZW1lbnQubGFzdFByb21pc2VWYWx1ZSA9IHZhbHVlOwogICAgcmV0dXJuIG5leHQudmFsdWUucmVzcG9uc2U7CiAgfSk7Cn0KCi8qKgogKiBHZW5lcmF0b3IgZnVuY3Rpb24gd2hpY2ggaXMgY2FsbGVkIGJldHdlZW4gZWFjaCBhc3luYyBzdGVwIG9mIHRoZSB1cGxvYWQKICogcHJvY2Vzcy4KICogQHBhcmFtIHtzdHJpbmd9IGlucHV0SWQgRWxlbWVudCBJRCBvZiB0aGUgaW5wdXQgZmlsZSBwaWNrZXIgZWxlbWVudC4KICogQHBhcmFtIHtzdHJpbmd9IG91dHB1dElkIEVsZW1lbnQgSUQgb2YgdGhlIG91dHB1dCBkaXNwbGF5LgogKiBAcmV0dXJuIHshSXRlcmFibGU8IU9iamVjdD59IEl0ZXJhYmxlIG9mIG5leHQgc3RlcHMuCiAqLwpmdW5jdGlvbiogdXBsb2FkRmlsZXNTdGVwKGlucHV0SWQsIG91dHB1dElkKSB7CiAgY29uc3QgaW5wdXRFbGVtZW50ID0gZG9jdW1lbnQuZ2V0RWxlbWVudEJ5SWQoaW5wdXRJZCk7CiAgaW5wdXRFbGVtZW50LmRpc2FibGVkID0gZmFsc2U7CgogIGNvbnN0IG91dHB1dEVsZW1lbnQgPSBkb2N1bWVudC5nZXRFbGVtZW50QnlJZChvdXRwdXRJZCk7CiAgb3V0cHV0RWxlbWVudC5pbm5lckhUTUwgPSAnJzsKCiAgY29uc3QgcGlja2VkUHJvbWlzZSA9IG5ldyBQcm9taXNlKChyZXNvbHZlKSA9PiB7CiAgICBpbnB1dEVsZW1lbnQuYWRkRXZlbnRMaXN0ZW5lcignY2hhbmdlJywgKGUpID0+IHsKICAgICAgcmVzb2x2ZShlLnRhcmdldC5maWxlcyk7CiAgICB9KTsKICB9KTsKCiAgY29uc3QgY2FuY2VsID0gZG9jdW1lbnQuY3JlYXRlRWxlbWVudCgnYnV0dG9uJyk7CiAgaW5wdXRFbGVtZW50LnBhcmVudEVsZW1lbnQuYXBwZW5kQ2hpbGQoY2FuY2VsKTsKICBjYW5jZWwudGV4dENvbnRlbnQgPSAnQ2FuY2VsIHVwbG9hZCc7CiAgY29uc3QgY2FuY2VsUHJvbWlzZSA9IG5ldyBQcm9taXNlKChyZXNvbHZlKSA9PiB7CiAgICBjYW5jZWwub25jbGljayA9ICgpID0+IHsKICAgICAgcmVzb2x2ZShudWxsKTsKICAgIH07CiAgfSk7CgogIC8vIENhbmNlbCB1cGxvYWQgaWYgdXNlciBoYXNuJ3QgcGlja2VkIGFueXRoaW5nIGluIHRpbWVvdXQuCiAgY29uc3QgdGltZW91dFByb21pc2UgPSBuZXcgUHJvbWlzZSgocmVzb2x2ZSkgPT4gewogICAgc2V0VGltZW91dCgoKSA9PiB7CiAgICAgIHJlc29sdmUobnVsbCk7CiAgICB9LCBGSUxFX0NIQU5HRV9USU1FT1VUX01TKTsKICB9KTsKCiAgLy8gV2FpdCBmb3IgdGhlIHVzZXIgdG8gcGljayB0aGUgZmlsZXMuCiAgY29uc3QgZmlsZXMgPSB5aWVsZCB7CiAgICBwcm9taXNlOiBQcm9taXNlLnJhY2UoW3BpY2tlZFByb21pc2UsIHRpbWVvdXRQcm9taXNlLCBjYW5jZWxQcm9taXNlXSksCiAgICByZXNwb25zZTogewogICAgICBhY3Rpb246ICdzdGFydGluZycsCiAgICB9CiAgfTsKCiAgaWYgKCFmaWxlcykgewogICAgcmV0dXJuIHsKICAgICAgcmVzcG9uc2U6IHsKICAgICAgICBhY3Rpb246ICdjb21wbGV0ZScsCiAgICAgIH0KICAgIH07CiAgfQoKICBjYW5jZWwucmVtb3ZlKCk7CgogIC8vIERpc2FibGUgdGhlIGlucHV0IGVsZW1lbnQgc2luY2UgZnVydGhlciBwaWNrcyBhcmUgbm90IGFsbG93ZWQuCiAgaW5wdXRFbGVtZW50LmRpc2FibGVkID0gdHJ1ZTsKCiAgZm9yIChjb25zdCBmaWxlIG9mIGZpbGVzKSB7CiAgICBjb25zdCBsaSA9IGRvY3VtZW50LmNyZWF0ZUVsZW1lbnQoJ2xpJyk7CiAgICBsaS5hcHBlbmQoc3BhbihmaWxlLm5hbWUsIHtmb250V2VpZ2h0OiAnYm9sZCd9KSk7CiAgICBsaS5hcHBlbmQoc3BhbigKICAgICAgICBgKCR7ZmlsZS50eXBlIHx8ICduL2EnfSkgLSAke2ZpbGUuc2l6ZX0gYnl0ZXMsIGAgKwogICAgICAgIGBsYXN0IG1vZGlmaWVkOiAkewogICAgICAgICAgICBmaWxlLmxhc3RNb2RpZmllZERhdGUgPyBmaWxlLmxhc3RNb2RpZmllZERhdGUudG9Mb2NhbGVEYXRlU3RyaW5nKCkgOgogICAgICAgICAgICAgICAgICAgICAgICAgICAgICAgICAgICAnbi9hJ30gLSBgKSk7CiAgICBjb25zdCBwZXJjZW50ID0gc3BhbignMCUgZG9uZScpOwogICAgbGkuYXBwZW5kQ2hpbGQocGVyY2VudCk7CgogICAgb3V0cHV0RWxlbWVudC5hcHBlbmRDaGlsZChsaSk7CgogICAgY29uc3QgZmlsZURhdGFQcm9taXNlID0gbmV3IFByb21pc2UoKHJlc29sdmUpID0+IHsKICAgICAgY29uc3QgcmVhZGVyID0gbmV3IEZpbGVSZWFkZXIoKTsKICAgICAgcmVhZGVyLm9ubG9hZCA9IChlKSA9PiB7CiAgICAgICAgcmVzb2x2ZShlLnRhcmdldC5yZXN1bHQpOwogICAgICB9OwogICAgICByZWFkZXIucmVhZEFzQXJyYXlCdWZmZXIoZmlsZSk7CiAgICB9KTsKICAgIC8vIFdhaXQgZm9yIHRoZSBkYXRhIHRvIGJlIHJlYWR5LgogICAgbGV0IGZpbGVEYXRhID0geWllbGQgewogICAgICBwcm9taXNlOiBmaWxlRGF0YVByb21pc2UsCiAgICAgIHJlc3BvbnNlOiB7CiAgICAgICAgYWN0aW9uOiAnY29udGludWUnLAogICAgICB9CiAgICB9OwoKICAgIC8vIFVzZSBhIGNodW5rZWQgc2VuZGluZyB0byBhdm9pZCBtZXNzYWdlIHNpemUgbGltaXRzLiBTZWUgYi82MjExNTY2MC4KICAgIGxldCBwb3NpdGlvbiA9IDA7CiAgICB3aGlsZSAocG9zaXRpb24gPCBmaWxlRGF0YS5ieXRlTGVuZ3RoKSB7CiAgICAgIGNvbnN0IGxlbmd0aCA9IE1hdGgubWluKGZpbGVEYXRhLmJ5dGVMZW5ndGggLSBwb3NpdGlvbiwgTUFYX1BBWUxPQURfU0laRSk7CiAgICAgIGNvbnN0IGNodW5rID0gbmV3IFVpbnQ4QXJyYXkoZmlsZURhdGEsIHBvc2l0aW9uLCBsZW5ndGgpOwogICAgICBwb3NpdGlvbiArPSBsZW5ndGg7CgogICAgICBjb25zdCBiYXNlNjQgPSBidG9hKFN0cmluZy5mcm9tQ2hhckNvZGUuYXBwbHkobnVsbCwgY2h1bmspKTsKICAgICAgeWllbGQgewogICAgICAgIHJlc3BvbnNlOiB7CiAgICAgICAgICBhY3Rpb246ICdhcHBlbmQnLAogICAgICAgICAgZmlsZTogZmlsZS5uYW1lLAogICAgICAgICAgZGF0YTogYmFzZTY0LAogICAgICAgIH0sCiAgICAgIH07CiAgICAgIHBlcmNlbnQudGV4dENvbnRlbnQgPQogICAgICAgICAgYCR7TWF0aC5yb3VuZCgocG9zaXRpb24gLyBmaWxlRGF0YS5ieXRlTGVuZ3RoKSAqIDEwMCl9JSBkb25lYDsKICAgIH0KICB9CgogIC8vIEFsbCBkb25lLgogIHlpZWxkIHsKICAgIHJlc3BvbnNlOiB7CiAgICAgIGFjdGlvbjogJ2NvbXBsZXRlJywKICAgIH0KICB9Owp9CgpzY29wZS5nb29nbGUgPSBzY29wZS5nb29nbGUgfHwge307CnNjb3BlLmdvb2dsZS5jb2xhYiA9IHNjb3BlLmdvb2dsZS5jb2xhYiB8fCB7fTsKc2NvcGUuZ29vZ2xlLmNvbGFiLl9maWxlcyA9IHsKICBfdXBsb2FkRmlsZXMsCiAgX3VwbG9hZEZpbGVzQ29udGludWUsCn07Cn0pKHNlbGYpOwo=",
              "ok": true,
              "headers": [
                [
                  "content-type",
                  "application/javascript"
                ]
              ],
              "status": 200,
              "status_text": ""
            }
          },
          "base_uri": "https://localhost:8080/",
          "height": 71
        }
      },
      "source": [
        "from google.colab import files\n",
        "\n",
        "uploaded = files.upload()\n",
        "  \n",
        "# Import TD data\n",
        "defects_dataframe = pd.read_csv('SELECT_t___FROM_db_dbprojecttdevent4_t.csv', index_col = 0, parse_dates=True)\n",
        "# Convert event_date column to datetime column for analysis\n",
        "defects_dataframe['event_date'] = pd.to_datetime(defects_dataframe['event_date'])\n",
        "defects_dataframe = defects_dataframe.set_index('event_date')"
      ],
      "execution_count": 2,
      "outputs": [
        {
          "output_type": "display_data",
          "data": {
            "text/html": [
              "\n",
              "     <input type=\"file\" id=\"files-93a2b5b1-471c-41f2-83af-d4d61384a4f4\" name=\"files[]\" multiple disabled />\n",
              "     <output id=\"result-93a2b5b1-471c-41f2-83af-d4d61384a4f4\">\n",
              "      Upload widget is only available when the cell has been executed in the\n",
              "      current browser session. Please rerun this cell to enable.\n",
              "      </output>\n",
              "      <script src=\"/nbextensions/google.colab/files.js\"></script> "
            ],
            "text/plain": [
              "<IPython.core.display.HTML object>"
            ]
          },
          "metadata": {
            "tags": []
          }
        },
        {
          "output_type": "stream",
          "text": [
            "Saving SELECT_t___FROM_db_dbprojecttdevent4_t.csv to SELECT_t___FROM_db_dbprojecttdevent4_t.csv\n"
          ],
          "name": "stdout"
        }
      ]
    },
    {
      "cell_type": "markdown",
      "metadata": {
        "id": "4m6JEFM49RXE",
        "colab_type": "text"
      },
      "source": [
        "## Getting the Stargazer Data.\n",
        "Need to get the stargazer data from the excel spreadsheet."
      ]
    },
    {
      "cell_type": "code",
      "metadata": {
        "id": "X8l7dK-C9B6T",
        "colab_type": "code",
        "outputId": "8837ef13-7862-42e0-ba3a-a86fa2c8b7a9",
        "colab": {
          "resources": {
            "http://localhost:8080/nbextensions/google.colab/files.js": {
              "data": "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",
              "ok": true,
              "headers": [
                [
                  "content-type",
                  "application/javascript"
                ]
              ],
              "status": 200,
              "status_text": ""
            }
          },
          "base_uri": "https://localhost:8080/",
          "height": 71
        }
      },
      "source": [
        "uploaded = files.upload()\n",
        "\n",
        "# Import DBStar Data\n",
        "stargazer_dataframe = pd.read_csv('SELECT_t___FROM_db_dbstar_t.csv', index_col = 0, parse_dates=True)\n",
        "# Convert event_date column to datetime column for analysis\n",
        "stargazer_dataframe['event_date'] = pd.to_datetime(stargazer_dataframe['event_date'])\n",
        "stargazer_dataframe = stargazer_dataframe.set_index('event_date')"
      ],
      "execution_count": 3,
      "outputs": [
        {
          "output_type": "display_data",
          "data": {
            "text/html": [
              "\n",
              "     <input type=\"file\" id=\"files-c97a61d4-04db-4256-be6d-8dc79bd8488d\" name=\"files[]\" multiple disabled />\n",
              "     <output id=\"result-c97a61d4-04db-4256-be6d-8dc79bd8488d\">\n",
              "      Upload widget is only available when the cell has been executed in the\n",
              "      current browser session. Please rerun this cell to enable.\n",
              "      </output>\n",
              "      <script src=\"/nbextensions/google.colab/files.js\"></script> "
            ],
            "text/plain": [
              "<IPython.core.display.HTML object>"
            ]
          },
          "metadata": {
            "tags": []
          }
        },
        {
          "output_type": "stream",
          "text": [
            "Saving SELECT_t___FROM_db_dbstar_t.csv to SELECT_t___FROM_db_dbstar_t.csv\n"
          ],
          "name": "stdout"
        }
      ]
    },
    {
      "cell_type": "markdown",
      "metadata": {
        "id": "ehl5qdFC-kdg",
        "colab_type": "text"
      },
      "source": [
        "##  Getting and Filtering the Data\n",
        "Here we are filter the data to the exact projects we need it from and plotting it out."
      ]
    },
    {
      "cell_type": "code",
      "metadata": {
        "id": "Y4bkGf5O8Zfp",
        "colab_type": "code",
        "colab": {}
      },
      "source": [
        "def get_filter_data(jira_proj, github_proj):\n",
        "  # filter td data to one project\n",
        "  df1 = defects_dataframe[defects_dataframe.projectkey == jira_proj]\n",
        "  # filter stargazer data to one project\n",
        "  df2 = stargazer_dataframe[stargazer_dataframe.repokey == github_proj]\n",
        "  return df1, df2"
      ],
      "execution_count": 0,
      "outputs": []
    },
    {
      "cell_type": "markdown",
      "metadata": {
        "id": "8sWfk-jcCN5S",
        "colab_type": "text"
      },
      "source": [
        "## Create a column normalization function to use."
      ]
    },
    {
      "cell_type": "code",
      "metadata": {
        "id": "FcmiusiPArmk",
        "colab_type": "code",
        "colab": {}
      },
      "source": [
        "def normalize_column(df, column_name):\n",
        "  # Create x, where x the 'scores' column's values as floats\n",
        "  x = df[[column_name]].values.astype(float)\n",
        "\n",
        "  # Create a minimum and maximum processor object\n",
        "  min_max_scaler = preprocessing.MinMaxScaler()\n",
        "\n",
        "  # Create an object to transform the data to fit minmax processor\n",
        "  x_scaled = min_max_scaler.fit_transform(x)\n",
        "\n",
        "  # Run the normalizer on the dataframe\n",
        "  return x_scaled"
      ],
      "execution_count": 0,
      "outputs": []
    },
    {
      "cell_type": "markdown",
      "metadata": {
        "id": "fnzV7bJ0CV--",
        "colab_type": "text"
      },
      "source": [
        "Use the normalization function on both datasets and plot the results."
      ]
    },
    {
      "cell_type": "code",
      "metadata": {
        "id": "pdWNlJjLBBw6",
        "colab_type": "code",
        "colab": {}
      },
      "source": [
        "def normalize_cumlative_value_col(column_name, df1, df2):\n",
        "  df1['cumlative_value_percentage'] = normalize_column(df1, column_name)\n",
        "  df2['cumlative_value_percentage'] = normalize_column(df2, column_name)\n",
        "  return df1, df2"
      ],
      "execution_count": 0,
      "outputs": []
    },
    {
      "cell_type": "markdown",
      "metadata": {
        "colab_type": "text",
        "id": "KUVyMBo0MiJK"
      },
      "source": [
        "## Finding the earliest and most recent dates\n",
        "We are trying to find the earliest and most recent datas on the project in order to now how long the actual project lasted."
      ]
    },
    {
      "cell_type": "code",
      "metadata": {
        "id": "JljOVOz78Zfu",
        "colab_type": "code",
        "colab": {}
      },
      "source": [
        "def find_oldest_and_most_recent_dates(df1, df2, col_name):\n",
        "  #remove the indexing\n",
        "  df1.reset_index(inplace=True)\n",
        "  df2.reset_index(inplace=True)\n",
        "\n",
        "  # find the normalization min value for x axis\n",
        "  earliest_sg_date = df2[col_name].min()\n",
        "  earliest_td_date = df1[col_name].min()\n",
        "  earliest_date = min(earliest_sg_date, earliest_td_date)\n",
        "\n",
        "  #find the normalization max value for x axis\n",
        "  most_recent_sg_date = df2[col_name].max()\n",
        "  most_recent_td_date = df1[col_name].max()\n",
        "  most_recent_date = min(most_recent_sg_date, most_recent_td_date)\n",
        "  \n",
        "  return earliest_date, most_recent_date"
      ],
      "execution_count": 0,
      "outputs": []
    },
    {
      "cell_type": "markdown",
      "metadata": {
        "id": "AhJyxw0vLaKn",
        "colab_type": "text"
      },
      "source": [
        "## Resample the DataFrame\n",
        "Need to resample the series for the specified sampling frequency and reset the index."
      ]
    },
    {
      "cell_type": "code",
      "metadata": {
        "id": "8gIjl2_3KwIf",
        "colab_type": "code",
        "colab": {}
      },
      "source": [
        "def resample_dataframe(df):\n",
        "  df.groupby('event_date').cumlative_value_percentage.last()\n",
        "  df.drop_duplicates(subset='event_date', keep='last', inplace=True)\n",
        "  df = df.set_index('event_date')\n",
        "  df = df.resample(sampling_freq).mean().bfill()\n",
        "  return df"
      ],
      "execution_count": 0,
      "outputs": []
    },
    {
      "cell_type": "markdown",
      "metadata": {
        "id": "aQnxXA6NtUQD",
        "colab_type": "text"
      },
      "source": [
        "## Merge Dataframes Together\n",
        "Merged the two dataframes togther in order to have a single index."
      ]
    },
    {
      "cell_type": "code",
      "metadata": {
        "id": "IA6LLgkn8Zfx",
        "colab_type": "code",
        "colab": {}
      },
      "source": [
        "#\n",
        "# merging the two data points together in order to normalize on the x axis\n",
        "#\n",
        "def merge_two_dataframes(df1, df2, early_date, latest_date, samp_freq):\n",
        "  merged_df = pd.DataFrame(columns=['date', 'td', 'sg'])\n",
        "  merged_df['date'] = pd.date_range(early_date, latest_date, freq=samp_freq, normalize=True)\n",
        "  merged_df = merged_df.set_index('date')\n",
        "  merged_df['sg'] = df2['cumlative_value_percentage']\n",
        "  merged_df['td'] = df1['cumlative_value_percentage']\n",
        "  merged_df['td'][0] = 0\n",
        "  merged_df['td'] = merged_df['td'].fillna(method='ffill')\n",
        "  return merged_df"
      ],
      "execution_count": 0,
      "outputs": []
    },
    {
      "cell_type": "code",
      "metadata": {
        "id": "1tnu3AkM8Zfz",
        "colab_type": "code",
        "colab": {}
      },
      "source": [
        "#\n",
        "# Perform the normalization\n",
        "#\n",
        "def create_and_normalize_new_index(df):\n",
        "  scalar = MinMaxScaler(feature_range=(0, 1))\n",
        "  scaled_merged_df = scalar.fit_transform(df)\n",
        "  scaled_merged_df = pd.DataFrame(scaled_merged_df, columns=['td', 'sg'])\n",
        "  scaled_merged_df['normalized_index'] = scaled_merged_df.index.tolist() / scaled_merged_df.index.to_series().count()\n",
        "  scaled_merged_df = scaled_merged_df.set_index('normalized_index')\n",
        "  return scaled_merged_df"
      ],
      "execution_count": 0,
      "outputs": []
    },
    {
      "cell_type": "markdown",
      "metadata": {
        "id": "vCmPZsfgtiHr",
        "colab_type": "text"
      },
      "source": [
        "## Create SP2D2 metric"
      ]
    },
    {
      "cell_type": "code",
      "metadata": {
        "id": "XTiJdxul8Zf1",
        "colab_type": "code",
        "colab": {}
      },
      "source": [
        "def create_sp2d2_series(df):\n",
        "  df['td_pct_diff'] = df['td'].pct_change().fillna(0)\n",
        "  df['sg_pct_diff'] = df['sg'].pct_change().fillna(0)\n",
        "  df['sp2d2'] = df['sg'] - df['td']\n",
        "  df['sp2d2'] = df['sp2d2'].replace([np.inf, -np.inf], np.nan)\n",
        "  return df"
      ],
      "execution_count": 0,
      "outputs": []
    },
    {
      "cell_type": "markdown",
      "metadata": {
        "id": "e0m9f5u_WRtm",
        "colab_type": "text"
      },
      "source": [
        "## Split the Data for Training and Testing\n",
        "Here I am splitting the data into training and test data. I could've used the split_train_test function however, it would not return something or perform the correct action I needed so i created my own. I also needed two training datasets."
      ]
    },
    {
      "cell_type": "code",
      "metadata": {
        "id": "lBLBaWHq8Zf7",
        "colab_type": "code",
        "colab": {}
      },
      "source": [
        "def split_data_train_test(df):\n",
        "  # put the data into np arrays\n",
        "  x = np.array(df.index.tolist()).reshape(-1, 1)\n",
        "  y = np.array(df['sp2d2']).reshape(-1, 1)\n",
        "\n",
        "  # split the data into training and test data.\n",
        "  n = len(x)\n",
        "  x_train = x[:int(n - weeks_of_prediction)]\n",
        "  x_test = x[int(n - weeks_of_prediction):]\n",
        "\n",
        "  # further splitting (split training data into 10% of original training size)\n",
        "  n=len(x_train)\n",
        "  x_train2 = x_train[int(n - weeks_of_training):]\n",
        "\n",
        "  m = len(y)\n",
        "  y_train = y[:int(m - weeks_of_prediction)]\n",
        "  y_test = y[int(m - weeks_of_prediction):]\n",
        "\n",
        "  # further splitting (split training data into 10% of original training size)\n",
        "  m=len(y_train)\n",
        "  y_train2 = y_train[int(m - weeks_of_training):]\n",
        "  return x_train, x_test, y_train, y_test, x_train2, y_train2"
      ],
      "execution_count": 0,
      "outputs": []
    },
    {
      "cell_type": "code",
      "metadata": {
        "id": "VOxzcdKZ8Zf9",
        "colab_type": "code",
        "colab": {}
      },
      "source": [
        "from sklearn.preprocessing import PolynomialFeatures\n",
        "from sklearn.linear_model import LinearRegression\n",
        "\n",
        "def linear_regression(x_train, y_train, x_test):\n",
        "  poly_reg = PolynomialFeatures(degree=1, interaction_only=False, include_bias=False)\n",
        "  x_poly = poly_reg.fit_transform(x_train)\n",
        "  pol_reg = LinearRegression()\n",
        "  pol_reg.fit(x_poly, y_train)\n",
        "  y_hat = pol_reg.predict(poly_reg.fit_transform(x_test))\n",
        "  return y_hat"
      ],
      "execution_count": 0,
      "outputs": []
    },
    {
      "cell_type": "code",
      "metadata": {
        "id": "dyuYwgf18Zf_",
        "colab_type": "code",
        "colab": {}
      },
      "source": [
        "# from sklearn.metrics import mean_squared_error\n",
        "\n",
        "# # Get the mean squared error\n",
        "# mse = mean_squared_error(y_test, y_predict)\n",
        "# print(mse)"
      ],
      "execution_count": 0,
      "outputs": []
    },
    {
      "cell_type": "code",
      "metadata": {
        "id": "HYQor3nE8ZgB",
        "colab_type": "code",
        "colab": {}
      },
      "source": [
        "def plot_everything(x_train, y_train, x_test, y_test, x_train2, y_train2, y_predict):\n",
        "  if do_plot == True:\n",
        "    # plot the data\n",
        "    plt.plot(x_train, y_train, c='r', label='training data')\n",
        "    plt.plot(x_test, y_test, c='b', label='testing data')\n",
        "    plt.plot(x_train2, y_train2, c='g', label='testing data')\n",
        "    plt.plot(x_test, y_predict, c='y', label='regression')\n",
        "    plt.show()"
      ],
      "execution_count": 0,
      "outputs": []
    },
    {
      "cell_type": "code",
      "metadata": {
        "id": "ZSCQvVLled2K",
        "colab_type": "code",
        "colab": {}
      },
      "source": [
        "def all_steps(jira_project, github_project):\n",
        "  \n",
        "  node_dataframe = None\n",
        "  node_sg_dataframe = None\n",
        "  \n",
        "  #step 1\n",
        "  node_dataframe, node_sg_dataframe = get_filter_data(jira_project, github_project)\n",
        "  if do_plot == True:\n",
        "    ax1 = plt.subplot(211)\n",
        "    node_dataframe['cumlative_value'].plot(ax=ax1)\n",
        "    ax2 = plt.subplot(212)\n",
        "    node_sg_dataframe['cumlative_value'].plot(ax=ax2)\n",
        "    plt.show()\n",
        "  \n",
        "  #step 2\n",
        "  node_dataframe, node_sg_dataframe = normalize_cumlative_value_col('cumlative_value', node_dataframe, node_sg_dataframe)\n",
        "  # Get the data to a series of the cumlative_value column\n",
        "  if do_plot == True:\n",
        "    ax3 = plt.subplot(211)\n",
        "    node_dataframe['cumlative_value_percentage'].plot(ax=ax3)\n",
        "    ax4 = plt.subplot(212)\n",
        "    node_sg_dataframe['cumlative_value_percentage'].plot(ax=ax4)\n",
        "    plt.show()\n",
        "  \n",
        "  #step 3\n",
        "  earliest_date, most_recent_date = find_oldest_and_most_recent_dates(node_dataframe, node_sg_dataframe, 'event_date')\n",
        "  \n",
        "  #step 4\n",
        "  node_dataframe = resample_dataframe(node_dataframe)\n",
        "  if do_plot == True:\n",
        "    node_dataframe['cumlative_value_percentage'].plot()\n",
        "    \n",
        "  node_sg_dataframe = resample_dataframe(node_sg_dataframe)\n",
        "  if do_plot == True:\n",
        "    node_sg_dataframe['cumlative_value_percentage'].plot()\n",
        "    plt.show()\n",
        "  \n",
        "  #step 5\n",
        "  merged_df = merge_two_dataframes(node_dataframe, node_sg_dataframe, earliest_date, most_recent_date, sampling_freq)\n",
        "  if do_plot == True:\n",
        "    merged_df.plot()\n",
        "    plt.show()\n",
        "  \n",
        "  #step 6\n",
        "  scaled_merged_df = create_and_normalize_new_index(merged_df)\n",
        "  if do_plot == True:\n",
        "    scaled_merged_df.plot()\n",
        "    plt.show()\n",
        "  \n",
        "  #step 7\n",
        "  scaled_merged_df = create_sp2d2_series(scaled_merged_df)\n",
        "  if do_plot == True:\n",
        "    scaled_merged_df.plot(y='sp2d2')\n",
        "    plt.show()\n",
        "  \n",
        "  #step 8\n",
        "  x_train, x_test, y_train, y_test, x_train2, y_train2 = split_data_train_test(scaled_merged_df)\n",
        "  if do_plot == True:\n",
        "    # plot the data\n",
        "    plt.plot(x_train, y_train, c='r', label='training data')\n",
        "    plt.plot(x_test, y_test, c='b', label='testing data')\n",
        "    plt.plot(x_train2, y_train2, c='g', label='testing data')\n",
        "    plt.show()\n",
        "  \n",
        "  #step 9\n",
        "  y_predict = linear_regression(x_train2, y_train2, x_test)\n",
        "  \n",
        "  #step 11\n",
        "  plot_everything(x_train, y_train, x_test, y_test, x_train2, y_train2, y_predict)\n",
        "  \n",
        "  #step 10\n",
        "  # Get the mean squared error\n",
        "  mse = mean_squared_error(y_test, y_predict)\n",
        "  return mse"
      ],
      "execution_count": 0,
      "outputs": []
    },
    {
      "cell_type": "code",
      "metadata": {
        "id": "nfOcXpzac8QI",
        "colab_type": "code",
        "colab": {}
      },
      "source": [
        "def do_all(jira_projects, github_projects):\n",
        "  mse_list = []\n",
        "  for (jira_proj, github_proj) in zip(jira_projects, github_projects):\n",
        "    mse = all_steps(jira_proj, github_proj)\n",
        "    mse_list.append(mse)\n",
        "    if do_print == True:\n",
        "      print(jira_proj, github_proj, \": \\t\", mse)\n",
        "  # get the average mse\n",
        "  mse_avg = sum(mse_list) / len(mse_list)\n",
        "  if do_print == True:\n",
        "    print ('average mse: ', mse_avg)\n",
        "  return mse_avg"
      ],
      "execution_count": 0,
      "outputs": []
    },
    {
      "cell_type": "code",
      "metadata": {
        "id": "xAVdeerEeO9I",
        "colab_type": "code",
        "outputId": "4e2d4b57-0d30-497e-b1ad-41cec578fb35",
        "colab": {
          "base_uri": "https://localhost:8080/",
          "height": 153
        }
      },
      "source": [
        "do_all(jira_project_names, github_project_names)"
      ],
      "execution_count": 27,
      "outputs": [
        {
          "output_type": "stream",
          "text": [
            "CDRIVER mongodb/mongo-c-driver : \t 0.04663694378483563\n",
            "CSHARP mongodb/mongo-csharp-driver : \t 0.0047106210424027375\n",
            "JAVA mongodb/mongo-java-driver : \t 0.004975942230390115\n",
            "NODE mongodb/node-mongodb-native : \t 0.03472320631626385\n",
            "PERL mongodb/mongo-perl-driver : \t 0.000669214783651167\n",
            "PYTHON mongodb/mongo-python-driver : \t 0.014377061446974919\n",
            "RUBY mongodb/mongo-ruby-driver : \t 0.014696147755489542\n",
            "average mse:  0.017255591051429712\n"
          ],
          "name": "stdout"
        }
      ]
    },
    {
      "cell_type": "code",
      "metadata": {
        "id": "8_riHKptqdxI",
        "colab_type": "code",
        "colab": {
          "base_uri": "https://localhost:8080/",
          "height": 1000
        },
        "outputId": "d074430a-4215-42ff-b158-fda0ba4f3e53"
      },
      "source": [
        "from matplotlib import colors\n",
        "df = pd.DataFrame(columns=['train_months', 'pred_months', 'avg_mse'])\n",
        "ax = plt.gca()\n",
        "# for some reason matplotlib does not change the color of the plots automatically\n",
        "colorlist = list(colors.ColorConverter.colors.keys())\n",
        "\n",
        "for t in range(6, 12):\n",
        "  weeks_of_training = t\n",
        "  for i in range(1, 12):\n",
        "    weeks_of_prediction = i\n",
        "    mse_avg = do_all(jira_project_names, github_project_names)\n",
        "    print('months of training: ', weeks_of_training, ' months of prediction: ', weeks_of_prediction, ' average MSE: ', mse_avg)\n",
        "    df = df.append({'train_months' :  weeks_of_training, 'pred_months' : weeks_of_prediction, 'avg_mse': mse_avg} , ignore_index=True)\n",
        "  #create plot label\n",
        "  _label = str(t) + ' months'\n",
        "  #plot it\n",
        "  #df.sort_values(['train_months', 'pred_months'], ascending=[True, True])\n",
        "  df.plot(kind='scatter', x='pred_months', y='avg_mse', label=_label, ax=ax, color=colorlist[t % len(colorlist)])\n",
        "  \n",
        "plt.show()"
      ],
      "execution_count": 64,
      "outputs": [
        {
          "output_type": "stream",
          "text": [
            "months of training:  6  months of prediction:  1  average MSE:  0.0065352046034705515\n",
            "months of training:  6  months of prediction:  2  average MSE:  0.00876753897862372\n",
            "months of training:  6  months of prediction:  3  average MSE:  0.02741264570067014\n",
            "months of training:  6  months of prediction:  4  average MSE:  0.024474582639376245\n",
            "months of training:  6  months of prediction:  5  average MSE:  0.02102569392040682\n",
            "months of training:  6  months of prediction:  6  average MSE:  0.012543845663414335\n",
            "months of training:  6  months of prediction:  7  average MSE:  0.03747202567425538\n",
            "months of training:  6  months of prediction:  8  average MSE:  0.11920127793246062\n",
            "months of training:  6  months of prediction:  9  average MSE:  0.1592150887806861\n",
            "months of training:  6  months of prediction:  10  average MSE:  0.09832006466031448\n",
            "months of training:  6  months of prediction:  11  average MSE:  0.05690952245161148\n",
            "months of training:  7  months of prediction:  1  average MSE:  0.00533546773751135\n",
            "months of training:  7  months of prediction:  2  average MSE:  0.01091462866183653\n",
            "months of training:  7  months of prediction:  3  average MSE:  0.025269051582197187\n",
            "months of training:  7  months of prediction:  4  average MSE:  0.020733146635805413\n",
            "months of training:  7  months of prediction:  5  average MSE:  0.016821470660474094\n",
            "months of training:  7  months of prediction:  6  average MSE:  0.015286033296770007\n",
            "months of training:  7  months of prediction:  7  average MSE:  0.06995895135915366\n",
            "months of training:  7  months of prediction:  8  average MSE:  0.11764770205916146\n",
            "months of training:  7  months of prediction:  9  average MSE:  0.10109467049467609\n",
            "months of training:  7  months of prediction:  10  average MSE:  0.06544767909259494\n",
            "months of training:  7  months of prediction:  11  average MSE:  0.052065407149055706\n",
            "months of training:  8  months of prediction:  1  average MSE:  0.0059474603970541525\n",
            "months of training:  8  months of prediction:  2  average MSE:  0.010261697000150982\n",
            "months of training:  8  months of prediction:  3  average MSE:  0.023682157782585256\n",
            "months of training:  8  months of prediction:  4  average MSE:  0.016807635689980664\n",
            "months of training:  8  months of prediction:  5  average MSE:  0.015393710378684608\n",
            "months of training:  8  months of prediction:  6  average MSE:  0.03194115515485343\n",
            "months of training:  8  months of prediction:  7  average MSE:  0.07758810415613845\n",
            "months of training:  8  months of prediction:  8  average MSE:  0.08298760894482575\n",
            "months of training:  8  months of prediction:  9  average MSE:  0.07176765220514063\n",
            "months of training:  8  months of prediction:  10  average MSE:  0.05201957803804232\n",
            "months of training:  8  months of prediction:  11  average MSE:  0.04981381158801577\n",
            "months of training:  9  months of prediction:  1  average MSE:  0.005554817483125894\n",
            "months of training:  9  months of prediction:  2  average MSE:  0.010067847714819582\n",
            "months of training:  9  months of prediction:  3  average MSE:  0.02048960964212392\n",
            "months of training:  9  months of prediction:  4  average MSE:  0.014648294550654988\n",
            "months of training:  9  months of prediction:  5  average MSE:  0.02405112953247202\n",
            "months of training:  9  months of prediction:  6  average MSE:  0.04217199775122847\n",
            "months of training:  9  months of prediction:  7  average MSE:  0.06062236951386459\n",
            "months of training:  9  months of prediction:  8  average MSE:  0.0632829856180637\n",
            "months of training:  9  months of prediction:  9  average MSE:  0.05786141266504858\n",
            "months of training:  9  months of prediction:  10  average MSE:  0.04361978894504638\n",
            "months of training:  9  months of prediction:  11  average MSE:  0.04983738361657374\n",
            "months of training:  10  months of prediction:  1  average MSE:  0.0055143184348922\n",
            "months of training:  10  months of prediction:  2  average MSE:  0.009814071070574335\n",
            "months of training:  10  months of prediction:  3  average MSE:  0.017508374256388803\n",
            "months of training:  10  months of prediction:  4  average MSE:  0.017255591051429712\n",
            "months of training:  10  months of prediction:  5  average MSE:  0.031656530466204\n",
            "months of training:  10  months of prediction:  6  average MSE:  0.037636021039854486\n",
            "months of training:  10  months of prediction:  7  average MSE:  0.04969324766264941\n",
            "months of training:  10  months of prediction:  8  average MSE:  0.05394451258199937\n",
            "months of training:  10  months of prediction:  9  average MSE:  0.04710317041928774\n",
            "months of training:  10  months of prediction:  10  average MSE:  0.03934359158406784\n",
            "months of training:  10  months of prediction:  11  average MSE:  0.044620564695500554\n",
            "months of training:  11  months of prediction:  1  average MSE:  0.005562869069005477\n",
            "months of training:  11  months of prediction:  2  average MSE:  0.01023783519289379\n",
            "months of training:  11  months of prediction:  3  average MSE:  0.017243903136079278\n",
            "months of training:  11  months of prediction:  4  average MSE:  0.023511417771389147\n",
            "months of training:  11  months of prediction:  5  average MSE:  0.030132021078180592\n",
            "months of training:  11  months of prediction:  6  average MSE:  0.03416171718869355\n",
            "months of training:  11  months of prediction:  7  average MSE:  0.04469501686018364\n",
            "months of training:  11  months of prediction:  8  average MSE:  0.044970863461368304\n",
            "months of training:  11  months of prediction:  9  average MSE:  0.04030129868055719\n",
            "months of training:  11  months of prediction:  10  average MSE:  0.036490478623803176\n",
            "months of training:  11  months of prediction:  11  average MSE:  0.043996198922748066\n"
          ],
          "name": "stdout"
        },
        {
          "output_type": "display_data",
          "data": {
            "image/png": "[encoded data removed]",
            "text/plain": [
              "<Figure size 1200x800 with 1 Axes>"
            ]
          },
          "metadata": {
            "tags": []
          }
        }
      ]
    },
    {
      "cell_type": "code",
      "metadata": {
        "id": "BK3eaO5ewHrQ",
        "colab_type": "code",
        "colab": {
          "base_uri": "https://localhost:8080/",
          "height": 752
        },
        "outputId": "d22fe78d-8029-4f9f-b773-1927c2d28603"
      },
      "source": [
        "df.plot(kind='scatter', x='pred_months', y='avg_mse', color='red')\n",
        "plt.show()"
      ],
      "execution_count": 65,
      "outputs": [
        {
          "output_type": "display_data",
          "data": {
            "image/png": "[encoded data removed]",
            "text/plain": [
              "<Figure size 1200x800 with 1 Axes>"
            ]
          },
          "metadata": {
            "tags": []
          }
        }
      ]
    }
  ]
}